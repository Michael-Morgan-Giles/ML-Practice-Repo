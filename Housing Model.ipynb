{
 "cells": [
  {
   "cell_type": "markdown",
   "id": "b993ee65-99cd-45c8-87f0-cfbb95e13d29",
   "metadata": {},
   "source": [
    "# House Pricing Model"
   ]
  },
  {
   "cell_type": "markdown",
   "id": "1e025c6f-0590-4b59-aeaf-3240fe5519f3",
   "metadata": {},
   "source": [
    "## Import Packages and set of data frame"
   ]
  },
  {
   "cell_type": "code",
   "execution_count": 1,
   "id": "0676c2ec-652e-41a0-92d0-c9b8634b155f",
   "metadata": {},
   "outputs": [],
   "source": [
    "%reset -f"
   ]
  },
  {
   "cell_type": "code",
   "execution_count": 54,
   "id": "cd05ff2d-8225-4e49-b59a-3ffae0cb18eb",
   "metadata": {},
   "outputs": [],
   "source": [
    "import pandas            as pd\n",
    "import matplotlib.pyplot as plt\n",
    "import statsmodels.api   as sm\n",
    "import seaborn           as sns\n",
    "import numpy             as np\n",
    "import csv\n",
    "import xgboost           as xgb\n",
    "\n",
    "from scipy.stats                            import t\n",
    "from datetime                               import datetime\n",
    "from statsmodels.tsa.stattools              import adfuller\n",
    "from scipy                                  import stats\n",
    "from statsmodels.tsa.stattools              import acf\n",
    "from statsmodels.graphics.tsaplots          import plot_acf\n",
    "from sklearn.preprocessing                  import StandardScaler\n",
    "from sklearn.metrics                        import mean_squared_error, mean_absolute_error\n",
    "from sklearn.model_selection                import GridSearchCV, TimeSeriesSplit, cross_val_score, cross_validate, train_test_split, KFold\n",
    "from sklearn.neural_network                 import MLPRegressor\n",
    "from sklearn.ensemble                       import RandomForestRegressor\n",
    "from sklearn.linear_model                   import LinearRegression, Lasso, RidgeCV, Ridge\n",
    "from sklearn.metrics                        import r2_score\n",
    "from sklearn.svm                            import SVR, LinearSVR\n",
    "from sklearn                                import linear_model"
   ]
  },
  {
   "cell_type": "code",
   "execution_count": 3,
   "id": "f89f0335-3851-4750-8107-1f85c7150766",
   "metadata": {},
   "outputs": [],
   "source": [
    "df = pd.read_csv(\"train.csv\")"
   ]
  },
  {
   "cell_type": "code",
   "execution_count": 4,
   "id": "42273a1b-9725-45c8-811d-dd678f780311",
   "metadata": {},
   "outputs": [
    {
     "data": {
      "text/html": [
       "<div>\n",
       "<style scoped>\n",
       "    .dataframe tbody tr th:only-of-type {\n",
       "        vertical-align: middle;\n",
       "    }\n",
       "\n",
       "    .dataframe tbody tr th {\n",
       "        vertical-align: top;\n",
       "    }\n",
       "\n",
       "    .dataframe thead th {\n",
       "        text-align: right;\n",
       "    }\n",
       "</style>\n",
       "<table border=\"1\" class=\"dataframe\">\n",
       "  <thead>\n",
       "    <tr style=\"text-align: right;\">\n",
       "      <th></th>\n",
       "      <th>Id</th>\n",
       "      <th>MSSubClass</th>\n",
       "      <th>MSZoning</th>\n",
       "      <th>LotFrontage</th>\n",
       "      <th>LotArea</th>\n",
       "      <th>Street</th>\n",
       "      <th>Alley</th>\n",
       "      <th>LotShape</th>\n",
       "      <th>LandContour</th>\n",
       "      <th>Utilities</th>\n",
       "      <th>...</th>\n",
       "      <th>PoolArea</th>\n",
       "      <th>PoolQC</th>\n",
       "      <th>Fence</th>\n",
       "      <th>MiscFeature</th>\n",
       "      <th>MiscVal</th>\n",
       "      <th>MoSold</th>\n",
       "      <th>YrSold</th>\n",
       "      <th>SaleType</th>\n",
       "      <th>SaleCondition</th>\n",
       "      <th>SalePrice</th>\n",
       "    </tr>\n",
       "  </thead>\n",
       "  <tbody>\n",
       "    <tr>\n",
       "      <th>0</th>\n",
       "      <td>1</td>\n",
       "      <td>60</td>\n",
       "      <td>RL</td>\n",
       "      <td>65.0</td>\n",
       "      <td>8450</td>\n",
       "      <td>Pave</td>\n",
       "      <td>NaN</td>\n",
       "      <td>Reg</td>\n",
       "      <td>Lvl</td>\n",
       "      <td>AllPub</td>\n",
       "      <td>...</td>\n",
       "      <td>0</td>\n",
       "      <td>NaN</td>\n",
       "      <td>NaN</td>\n",
       "      <td>NaN</td>\n",
       "      <td>0</td>\n",
       "      <td>2</td>\n",
       "      <td>2008</td>\n",
       "      <td>WD</td>\n",
       "      <td>Normal</td>\n",
       "      <td>208500</td>\n",
       "    </tr>\n",
       "    <tr>\n",
       "      <th>1</th>\n",
       "      <td>2</td>\n",
       "      <td>20</td>\n",
       "      <td>RL</td>\n",
       "      <td>80.0</td>\n",
       "      <td>9600</td>\n",
       "      <td>Pave</td>\n",
       "      <td>NaN</td>\n",
       "      <td>Reg</td>\n",
       "      <td>Lvl</td>\n",
       "      <td>AllPub</td>\n",
       "      <td>...</td>\n",
       "      <td>0</td>\n",
       "      <td>NaN</td>\n",
       "      <td>NaN</td>\n",
       "      <td>NaN</td>\n",
       "      <td>0</td>\n",
       "      <td>5</td>\n",
       "      <td>2007</td>\n",
       "      <td>WD</td>\n",
       "      <td>Normal</td>\n",
       "      <td>181500</td>\n",
       "    </tr>\n",
       "    <tr>\n",
       "      <th>2</th>\n",
       "      <td>3</td>\n",
       "      <td>60</td>\n",
       "      <td>RL</td>\n",
       "      <td>68.0</td>\n",
       "      <td>11250</td>\n",
       "      <td>Pave</td>\n",
       "      <td>NaN</td>\n",
       "      <td>IR1</td>\n",
       "      <td>Lvl</td>\n",
       "      <td>AllPub</td>\n",
       "      <td>...</td>\n",
       "      <td>0</td>\n",
       "      <td>NaN</td>\n",
       "      <td>NaN</td>\n",
       "      <td>NaN</td>\n",
       "      <td>0</td>\n",
       "      <td>9</td>\n",
       "      <td>2008</td>\n",
       "      <td>WD</td>\n",
       "      <td>Normal</td>\n",
       "      <td>223500</td>\n",
       "    </tr>\n",
       "    <tr>\n",
       "      <th>3</th>\n",
       "      <td>4</td>\n",
       "      <td>70</td>\n",
       "      <td>RL</td>\n",
       "      <td>60.0</td>\n",
       "      <td>9550</td>\n",
       "      <td>Pave</td>\n",
       "      <td>NaN</td>\n",
       "      <td>IR1</td>\n",
       "      <td>Lvl</td>\n",
       "      <td>AllPub</td>\n",
       "      <td>...</td>\n",
       "      <td>0</td>\n",
       "      <td>NaN</td>\n",
       "      <td>NaN</td>\n",
       "      <td>NaN</td>\n",
       "      <td>0</td>\n",
       "      <td>2</td>\n",
       "      <td>2006</td>\n",
       "      <td>WD</td>\n",
       "      <td>Abnorml</td>\n",
       "      <td>140000</td>\n",
       "    </tr>\n",
       "    <tr>\n",
       "      <th>4</th>\n",
       "      <td>5</td>\n",
       "      <td>60</td>\n",
       "      <td>RL</td>\n",
       "      <td>84.0</td>\n",
       "      <td>14260</td>\n",
       "      <td>Pave</td>\n",
       "      <td>NaN</td>\n",
       "      <td>IR1</td>\n",
       "      <td>Lvl</td>\n",
       "      <td>AllPub</td>\n",
       "      <td>...</td>\n",
       "      <td>0</td>\n",
       "      <td>NaN</td>\n",
       "      <td>NaN</td>\n",
       "      <td>NaN</td>\n",
       "      <td>0</td>\n",
       "      <td>12</td>\n",
       "      <td>2008</td>\n",
       "      <td>WD</td>\n",
       "      <td>Normal</td>\n",
       "      <td>250000</td>\n",
       "    </tr>\n",
       "  </tbody>\n",
       "</table>\n",
       "<p>5 rows × 81 columns</p>\n",
       "</div>"
      ],
      "text/plain": [
       "   Id  MSSubClass MSZoning  LotFrontage  LotArea Street Alley LotShape  \\\n",
       "0   1          60       RL         65.0     8450   Pave   NaN      Reg   \n",
       "1   2          20       RL         80.0     9600   Pave   NaN      Reg   \n",
       "2   3          60       RL         68.0    11250   Pave   NaN      IR1   \n",
       "3   4          70       RL         60.0     9550   Pave   NaN      IR1   \n",
       "4   5          60       RL         84.0    14260   Pave   NaN      IR1   \n",
       "\n",
       "  LandContour Utilities  ... PoolArea PoolQC Fence MiscFeature MiscVal MoSold  \\\n",
       "0         Lvl    AllPub  ...        0    NaN   NaN         NaN       0      2   \n",
       "1         Lvl    AllPub  ...        0    NaN   NaN         NaN       0      5   \n",
       "2         Lvl    AllPub  ...        0    NaN   NaN         NaN       0      9   \n",
       "3         Lvl    AllPub  ...        0    NaN   NaN         NaN       0      2   \n",
       "4         Lvl    AllPub  ...        0    NaN   NaN         NaN       0     12   \n",
       "\n",
       "  YrSold  SaleType  SaleCondition  SalePrice  \n",
       "0   2008        WD         Normal     208500  \n",
       "1   2007        WD         Normal     181500  \n",
       "2   2008        WD         Normal     223500  \n",
       "3   2006        WD        Abnorml     140000  \n",
       "4   2008        WD         Normal     250000  \n",
       "\n",
       "[5 rows x 81 columns]"
      ]
     },
     "execution_count": 4,
     "metadata": {},
     "output_type": "execute_result"
    }
   ],
   "source": [
    "df.head()"
   ]
  },
  {
   "cell_type": "code",
   "execution_count": 5,
   "id": "7d28cd24-1ffd-4394-802b-6980afce5963",
   "metadata": {},
   "outputs": [
    {
     "name": "stdout",
     "output_type": "stream",
     "text": [
      "<class 'pandas.core.frame.DataFrame'>\n",
      "RangeIndex: 1460 entries, 0 to 1459\n",
      "Data columns (total 81 columns):\n",
      " #   Column         Non-Null Count  Dtype  \n",
      "---  ------         --------------  -----  \n",
      " 0   Id             1460 non-null   int64  \n",
      " 1   MSSubClass     1460 non-null   int64  \n",
      " 2   MSZoning       1460 non-null   object \n",
      " 3   LotFrontage    1201 non-null   float64\n",
      " 4   LotArea        1460 non-null   int64  \n",
      " 5   Street         1460 non-null   object \n",
      " 6   Alley          91 non-null     object \n",
      " 7   LotShape       1460 non-null   object \n",
      " 8   LandContour    1460 non-null   object \n",
      " 9   Utilities      1460 non-null   object \n",
      " 10  LotConfig      1460 non-null   object \n",
      " 11  LandSlope      1460 non-null   object \n",
      " 12  Neighborhood   1460 non-null   object \n",
      " 13  Condition1     1460 non-null   object \n",
      " 14  Condition2     1460 non-null   object \n",
      " 15  BldgType       1460 non-null   object \n",
      " 16  HouseStyle     1460 non-null   object \n",
      " 17  OverallQual    1460 non-null   int64  \n",
      " 18  OverallCond    1460 non-null   int64  \n",
      " 19  YearBuilt      1460 non-null   int64  \n",
      " 20  YearRemodAdd   1460 non-null   int64  \n",
      " 21  RoofStyle      1460 non-null   object \n",
      " 22  RoofMatl       1460 non-null   object \n",
      " 23  Exterior1st    1460 non-null   object \n",
      " 24  Exterior2nd    1460 non-null   object \n",
      " 25  MasVnrType     1452 non-null   object \n",
      " 26  MasVnrArea     1452 non-null   float64\n",
      " 27  ExterQual      1460 non-null   object \n",
      " 28  ExterCond      1460 non-null   object \n",
      " 29  Foundation     1460 non-null   object \n",
      " 30  BsmtQual       1423 non-null   object \n",
      " 31  BsmtCond       1423 non-null   object \n",
      " 32  BsmtExposure   1422 non-null   object \n",
      " 33  BsmtFinType1   1423 non-null   object \n",
      " 34  BsmtFinSF1     1460 non-null   int64  \n",
      " 35  BsmtFinType2   1422 non-null   object \n",
      " 36  BsmtFinSF2     1460 non-null   int64  \n",
      " 37  BsmtUnfSF      1460 non-null   int64  \n",
      " 38  TotalBsmtSF    1460 non-null   int64  \n",
      " 39  Heating        1460 non-null   object \n",
      " 40  HeatingQC      1460 non-null   object \n",
      " 41  CentralAir     1460 non-null   object \n",
      " 42  Electrical     1459 non-null   object \n",
      " 43  1stFlrSF       1460 non-null   int64  \n",
      " 44  2ndFlrSF       1460 non-null   int64  \n",
      " 45  LowQualFinSF   1460 non-null   int64  \n",
      " 46  GrLivArea      1460 non-null   int64  \n",
      " 47  BsmtFullBath   1460 non-null   int64  \n",
      " 48  BsmtHalfBath   1460 non-null   int64  \n",
      " 49  FullBath       1460 non-null   int64  \n",
      " 50  HalfBath       1460 non-null   int64  \n",
      " 51  BedroomAbvGr   1460 non-null   int64  \n",
      " 52  KitchenAbvGr   1460 non-null   int64  \n",
      " 53  KitchenQual    1460 non-null   object \n",
      " 54  TotRmsAbvGrd   1460 non-null   int64  \n",
      " 55  Functional     1460 non-null   object \n",
      " 56  Fireplaces     1460 non-null   int64  \n",
      " 57  FireplaceQu    770 non-null    object \n",
      " 58  GarageType     1379 non-null   object \n",
      " 59  GarageYrBlt    1379 non-null   float64\n",
      " 60  GarageFinish   1379 non-null   object \n",
      " 61  GarageCars     1460 non-null   int64  \n",
      " 62  GarageArea     1460 non-null   int64  \n",
      " 63  GarageQual     1379 non-null   object \n",
      " 64  GarageCond     1379 non-null   object \n",
      " 65  PavedDrive     1460 non-null   object \n",
      " 66  WoodDeckSF     1460 non-null   int64  \n",
      " 67  OpenPorchSF    1460 non-null   int64  \n",
      " 68  EnclosedPorch  1460 non-null   int64  \n",
      " 69  3SsnPorch      1460 non-null   int64  \n",
      " 70  ScreenPorch    1460 non-null   int64  \n",
      " 71  PoolArea       1460 non-null   int64  \n",
      " 72  PoolQC         7 non-null      object \n",
      " 73  Fence          281 non-null    object \n",
      " 74  MiscFeature    54 non-null     object \n",
      " 75  MiscVal        1460 non-null   int64  \n",
      " 76  MoSold         1460 non-null   int64  \n",
      " 77  YrSold         1460 non-null   int64  \n",
      " 78  SaleType       1460 non-null   object \n",
      " 79  SaleCondition  1460 non-null   object \n",
      " 80  SalePrice      1460 non-null   int64  \n",
      "dtypes: float64(3), int64(35), object(43)\n",
      "memory usage: 924.0+ KB\n"
     ]
    }
   ],
   "source": [
    "df.info()"
   ]
  },
  {
   "cell_type": "code",
   "execution_count": 177,
   "id": "96f1a464-b2f4-44a3-875b-076583c24b87",
   "metadata": {},
   "outputs": [
    {
     "data": {
      "text/plain": [
       "Index(['Id', 'MSSubClass', 'MSZoning', 'LotFrontage', 'LotArea', 'Street',\n",
       "       'Alley', 'LotShape', 'LandContour', 'Utilities', 'LotConfig',\n",
       "       'LandSlope', 'Neighborhood', 'Condition1', 'Condition2', 'BldgType',\n",
       "       'HouseStyle', 'OverallQual', 'OverallCond', 'YearBuilt', 'YearRemodAdd',\n",
       "       'RoofStyle', 'RoofMatl', 'Exterior1st', 'Exterior2nd', 'MasVnrType',\n",
       "       'MasVnrArea', 'ExterQual', 'ExterCond', 'Foundation', 'BsmtQual',\n",
       "       'BsmtCond', 'BsmtExposure', 'BsmtFinType1', 'BsmtFinSF1',\n",
       "       'BsmtFinType2', 'BsmtFinSF2', 'BsmtUnfSF', 'TotalBsmtSF', 'Heating',\n",
       "       'HeatingQC', 'CentralAir', 'Electrical', '1stFlrSF', '2ndFlrSF',\n",
       "       'LowQualFinSF', 'GrLivArea', 'BsmtFullBath', 'BsmtHalfBath', 'FullBath',\n",
       "       'HalfBath', 'BedroomAbvGr', 'KitchenAbvGr', 'KitchenQual',\n",
       "       'TotRmsAbvGrd', 'Functional', 'Fireplaces', 'FireplaceQu', 'GarageType',\n",
       "       'GarageYrBlt', 'GarageFinish', 'GarageCars', 'GarageArea', 'GarageQual',\n",
       "       'GarageCond', 'PavedDrive', 'WoodDeckSF', 'OpenPorchSF',\n",
       "       'EnclosedPorch', '3SsnPorch', 'ScreenPorch', 'PoolArea', 'PoolQC',\n",
       "       'Fence', 'MiscFeature', 'MiscVal', 'MoSold', 'YrSold', 'SaleType',\n",
       "       'SaleCondition', 'SalePrice'],\n",
       "      dtype='object')"
      ]
     },
     "execution_count": 177,
     "metadata": {},
     "output_type": "execute_result"
    }
   ],
   "source": [
    "df.columns"
   ]
  },
  {
   "cell_type": "code",
   "execution_count": 7,
   "id": "1f0b2ec1-0dba-48bd-9a88-280ba090d351",
   "metadata": {},
   "outputs": [
    {
     "data": {
      "text/plain": [
       "array([ 65.,  80.,  68.,  60.,  84.,  85.,  75.,  nan,  51.,  50.,  70.,\n",
       "        91.,  72.,  66., 101.,  57.,  44., 110.,  98.,  47., 108., 112.,\n",
       "        74., 115.,  61.,  48.,  33.,  52., 100.,  24.,  89.,  63.,  76.,\n",
       "        81.,  95.,  69.,  21.,  32.,  78., 121., 122.,  40., 105.,  73.,\n",
       "        77.,  64.,  94.,  34.,  90.,  55.,  88.,  82.,  71., 120., 107.,\n",
       "        92., 134.,  62.,  86., 141.,  97.,  54.,  41.,  79., 174.,  99.,\n",
       "        67.,  83.,  43., 103.,  93.,  30., 129., 140.,  35.,  37., 118.,\n",
       "        87., 116., 150., 111.,  49.,  96.,  59.,  36.,  56., 102.,  58.,\n",
       "        38., 109., 130.,  53., 137.,  45., 106., 104.,  42.,  39., 144.,\n",
       "       114., 128., 149., 313., 168., 182., 138., 160., 152., 124., 153.,\n",
       "        46.])"
      ]
     },
     "execution_count": 7,
     "metadata": {},
     "output_type": "execute_result"
    }
   ],
   "source": [
    "df['MSZoning'].unique()"
   ]
  },
  {
   "cell_type": "markdown",
   "id": "fe6c6028-b7d6-47f8-8223-250e132dc814",
   "metadata": {},
   "source": [
    "# EDA and Feature Engineering"
   ]
  },
  {
   "cell_type": "code",
   "execution_count": 8,
   "id": "a2e6218b-0ae5-4747-a2f0-538ab1d31102",
   "metadata": {},
   "outputs": [],
   "source": [
    "def one_hot_encode_dataframe(df):\n",
    "    # Identify object columns\n",
    "    object_cols = df.select_dtypes(include=['object']).columns\n",
    "    \n",
    "    # One-hot encode object columns\n",
    "    df_encoded = pd.get_dummies(df, columns=object_cols)\n",
    "    \n",
    "    return df_encoded\n"
   ]
  },
  {
   "cell_type": "code",
   "execution_count": 10,
   "id": "8d36c82f-4e9a-4fc9-bbee-182511e93d9a",
   "metadata": {},
   "outputs": [
    {
     "name": "stdout",
     "output_type": "stream",
     "text": [
      "        Id  MSSubClass  LotFrontage  LotArea  OverallQual  OverallCond  \\\n",
      "0        1          60         65.0     8450            7            5   \n",
      "1        2          20         80.0     9600            6            8   \n",
      "2        3          60         68.0    11250            7            5   \n",
      "3        4          70         60.0     9550            7            5   \n",
      "4        5          60         84.0    14260            8            5   \n",
      "...    ...         ...          ...      ...          ...          ...   \n",
      "1455  1456          60         62.0     7917            6            5   \n",
      "1456  1457          20         85.0    13175            6            6   \n",
      "1457  1458          70         66.0     9042            7            9   \n",
      "1458  1459          20         68.0     9717            5            6   \n",
      "1459  1460          20         75.0     9937            5            6   \n",
      "\n",
      "      YearBuilt  YearRemodAdd  MasVnrArea  BsmtFinSF1  ...  SaleType_ConLw  \\\n",
      "0          2003          2003       196.0         706  ...               0   \n",
      "1          1976          1976         0.0         978  ...               0   \n",
      "2          2001          2002       162.0         486  ...               0   \n",
      "3          1915          1970         0.0         216  ...               0   \n",
      "4          2000          2000       350.0         655  ...               0   \n",
      "...         ...           ...         ...         ...  ...             ...   \n",
      "1455       1999          2000         0.0           0  ...               0   \n",
      "1456       1978          1988       119.0         790  ...               0   \n",
      "1457       1941          2006         0.0         275  ...               0   \n",
      "1458       1950          1996         0.0          49  ...               0   \n",
      "1459       1965          1965         0.0         830  ...               0   \n",
      "\n",
      "      SaleType_New  SaleType_Oth  SaleType_WD  SaleCondition_Abnorml  \\\n",
      "0                0             0            1                      0   \n",
      "1                0             0            1                      0   \n",
      "2                0             0            1                      0   \n",
      "3                0             0            1                      1   \n",
      "4                0             0            1                      0   \n",
      "...            ...           ...          ...                    ...   \n",
      "1455             0             0            1                      0   \n",
      "1456             0             0            1                      0   \n",
      "1457             0             0            1                      0   \n",
      "1458             0             0            1                      0   \n",
      "1459             0             0            1                      0   \n",
      "\n",
      "      SaleCondition_AdjLand  SaleCondition_Alloca  SaleCondition_Family  \\\n",
      "0                         0                     0                     0   \n",
      "1                         0                     0                     0   \n",
      "2                         0                     0                     0   \n",
      "3                         0                     0                     0   \n",
      "4                         0                     0                     0   \n",
      "...                     ...                   ...                   ...   \n",
      "1455                      0                     0                     0   \n",
      "1456                      0                     0                     0   \n",
      "1457                      0                     0                     0   \n",
      "1458                      0                     0                     0   \n",
      "1459                      0                     0                     0   \n",
      "\n",
      "      SaleCondition_Normal  SaleCondition_Partial  \n",
      "0                        1                      0  \n",
      "1                        1                      0  \n",
      "2                        1                      0  \n",
      "3                        0                      0  \n",
      "4                        1                      0  \n",
      "...                    ...                    ...  \n",
      "1455                     1                      0  \n",
      "1456                     1                      0  \n",
      "1457                     1                      0  \n",
      "1458                     1                      0  \n",
      "1459                     1                      0  \n",
      "\n",
      "[1460 rows x 290 columns]\n"
     ]
    }
   ],
   "source": [
    "encoded_dataframe = one_hot_encode_dataframe(df)\n",
    "print(encoded_dataframe)"
   ]
  },
  {
   "cell_type": "code",
   "execution_count": 20,
   "id": "6d0210d3-b2a3-4f4c-94b2-b0de756bb543",
   "metadata": {},
   "outputs": [
    {
     "data": {
      "text/html": [
       "<div>\n",
       "<style scoped>\n",
       "    .dataframe tbody tr th:only-of-type {\n",
       "        vertical-align: middle;\n",
       "    }\n",
       "\n",
       "    .dataframe tbody tr th {\n",
       "        vertical-align: top;\n",
       "    }\n",
       "\n",
       "    .dataframe thead th {\n",
       "        text-align: right;\n",
       "    }\n",
       "</style>\n",
       "<table border=\"1\" class=\"dataframe\">\n",
       "  <thead>\n",
       "    <tr style=\"text-align: right;\">\n",
       "      <th></th>\n",
       "      <th>Id</th>\n",
       "      <th>MSSubClass</th>\n",
       "      <th>LotFrontage</th>\n",
       "      <th>LotArea</th>\n",
       "      <th>OverallQual</th>\n",
       "      <th>OverallCond</th>\n",
       "      <th>YearBuilt</th>\n",
       "      <th>YearRemodAdd</th>\n",
       "      <th>MasVnrArea</th>\n",
       "      <th>BsmtFinSF1</th>\n",
       "      <th>...</th>\n",
       "      <th>SaleType_ConLw</th>\n",
       "      <th>SaleType_New</th>\n",
       "      <th>SaleType_Oth</th>\n",
       "      <th>SaleType_WD</th>\n",
       "      <th>SaleCondition_Abnorml</th>\n",
       "      <th>SaleCondition_AdjLand</th>\n",
       "      <th>SaleCondition_Alloca</th>\n",
       "      <th>SaleCondition_Family</th>\n",
       "      <th>SaleCondition_Normal</th>\n",
       "      <th>SaleCondition_Partial</th>\n",
       "    </tr>\n",
       "  </thead>\n",
       "  <tbody>\n",
       "    <tr>\n",
       "      <th>0</th>\n",
       "      <td>1</td>\n",
       "      <td>60</td>\n",
       "      <td>65.0</td>\n",
       "      <td>8450</td>\n",
       "      <td>7</td>\n",
       "      <td>5</td>\n",
       "      <td>2003</td>\n",
       "      <td>2003</td>\n",
       "      <td>196.0</td>\n",
       "      <td>706</td>\n",
       "      <td>...</td>\n",
       "      <td>0</td>\n",
       "      <td>0</td>\n",
       "      <td>0</td>\n",
       "      <td>1</td>\n",
       "      <td>0</td>\n",
       "      <td>0</td>\n",
       "      <td>0</td>\n",
       "      <td>0</td>\n",
       "      <td>1</td>\n",
       "      <td>0</td>\n",
       "    </tr>\n",
       "    <tr>\n",
       "      <th>1</th>\n",
       "      <td>2</td>\n",
       "      <td>20</td>\n",
       "      <td>80.0</td>\n",
       "      <td>9600</td>\n",
       "      <td>6</td>\n",
       "      <td>8</td>\n",
       "      <td>1976</td>\n",
       "      <td>1976</td>\n",
       "      <td>0.0</td>\n",
       "      <td>978</td>\n",
       "      <td>...</td>\n",
       "      <td>0</td>\n",
       "      <td>0</td>\n",
       "      <td>0</td>\n",
       "      <td>1</td>\n",
       "      <td>0</td>\n",
       "      <td>0</td>\n",
       "      <td>0</td>\n",
       "      <td>0</td>\n",
       "      <td>1</td>\n",
       "      <td>0</td>\n",
       "    </tr>\n",
       "    <tr>\n",
       "      <th>2</th>\n",
       "      <td>3</td>\n",
       "      <td>60</td>\n",
       "      <td>68.0</td>\n",
       "      <td>11250</td>\n",
       "      <td>7</td>\n",
       "      <td>5</td>\n",
       "      <td>2001</td>\n",
       "      <td>2002</td>\n",
       "      <td>162.0</td>\n",
       "      <td>486</td>\n",
       "      <td>...</td>\n",
       "      <td>0</td>\n",
       "      <td>0</td>\n",
       "      <td>0</td>\n",
       "      <td>1</td>\n",
       "      <td>0</td>\n",
       "      <td>0</td>\n",
       "      <td>0</td>\n",
       "      <td>0</td>\n",
       "      <td>1</td>\n",
       "      <td>0</td>\n",
       "    </tr>\n",
       "    <tr>\n",
       "      <th>3</th>\n",
       "      <td>4</td>\n",
       "      <td>70</td>\n",
       "      <td>60.0</td>\n",
       "      <td>9550</td>\n",
       "      <td>7</td>\n",
       "      <td>5</td>\n",
       "      <td>1915</td>\n",
       "      <td>1970</td>\n",
       "      <td>0.0</td>\n",
       "      <td>216</td>\n",
       "      <td>...</td>\n",
       "      <td>0</td>\n",
       "      <td>0</td>\n",
       "      <td>0</td>\n",
       "      <td>1</td>\n",
       "      <td>1</td>\n",
       "      <td>0</td>\n",
       "      <td>0</td>\n",
       "      <td>0</td>\n",
       "      <td>0</td>\n",
       "      <td>0</td>\n",
       "    </tr>\n",
       "    <tr>\n",
       "      <th>4</th>\n",
       "      <td>5</td>\n",
       "      <td>60</td>\n",
       "      <td>84.0</td>\n",
       "      <td>14260</td>\n",
       "      <td>8</td>\n",
       "      <td>5</td>\n",
       "      <td>2000</td>\n",
       "      <td>2000</td>\n",
       "      <td>350.0</td>\n",
       "      <td>655</td>\n",
       "      <td>...</td>\n",
       "      <td>0</td>\n",
       "      <td>0</td>\n",
       "      <td>0</td>\n",
       "      <td>1</td>\n",
       "      <td>0</td>\n",
       "      <td>0</td>\n",
       "      <td>0</td>\n",
       "      <td>0</td>\n",
       "      <td>1</td>\n",
       "      <td>0</td>\n",
       "    </tr>\n",
       "  </tbody>\n",
       "</table>\n",
       "<p>5 rows × 290 columns</p>\n",
       "</div>"
      ],
      "text/plain": [
       "   Id  MSSubClass  LotFrontage  LotArea  OverallQual  OverallCond  YearBuilt  \\\n",
       "0   1          60         65.0     8450            7            5       2003   \n",
       "1   2          20         80.0     9600            6            8       1976   \n",
       "2   3          60         68.0    11250            7            5       2001   \n",
       "3   4          70         60.0     9550            7            5       1915   \n",
       "4   5          60         84.0    14260            8            5       2000   \n",
       "\n",
       "   YearRemodAdd  MasVnrArea  BsmtFinSF1  ...  SaleType_ConLw  SaleType_New  \\\n",
       "0          2003       196.0         706  ...               0             0   \n",
       "1          1976         0.0         978  ...               0             0   \n",
       "2          2002       162.0         486  ...               0             0   \n",
       "3          1970         0.0         216  ...               0             0   \n",
       "4          2000       350.0         655  ...               0             0   \n",
       "\n",
       "   SaleType_Oth  SaleType_WD  SaleCondition_Abnorml  SaleCondition_AdjLand  \\\n",
       "0             0            1                      0                      0   \n",
       "1             0            1                      0                      0   \n",
       "2             0            1                      0                      0   \n",
       "3             0            1                      1                      0   \n",
       "4             0            1                      0                      0   \n",
       "\n",
       "   SaleCondition_Alloca  SaleCondition_Family  SaleCondition_Normal  \\\n",
       "0                     0                     0                     1   \n",
       "1                     0                     0                     1   \n",
       "2                     0                     0                     1   \n",
       "3                     0                     0                     0   \n",
       "4                     0                     0                     1   \n",
       "\n",
       "   SaleCondition_Partial  \n",
       "0                      0  \n",
       "1                      0  \n",
       "2                      0  \n",
       "3                      0  \n",
       "4                      0  \n",
       "\n",
       "[5 rows x 290 columns]"
      ]
     },
     "execution_count": 20,
     "metadata": {},
     "output_type": "execute_result"
    }
   ],
   "source": [
    "encoded_dataframe = pd.DataFrame(encoded_dataframe)\n",
    "encoded_dataframe.head()"
   ]
  },
  {
   "cell_type": "code",
   "execution_count": 179,
   "id": "cba2ddb8-c4d7-4bd9-9e5a-cbf9fc7d0021",
   "metadata": {},
   "outputs": [],
   "source": [
    "df = df[['LotArea','OverallQual', 'OverallCond','BsmtFinSF2', 'BsmtUnfSF', 'TotalBsmtSF','1stFlrSF', '2ndFlrSF',\n",
    "       'LowQualFinSF', 'GrLivArea', 'BsmtFullBath', 'BsmtHalfBath', 'FullBath',\n",
    "       'HalfBath', 'BedroomAbvGr', 'KitchenAbvGr','TotRmsAbvGrd','Fireplaces','GarageCars', 'GarageArea',\n",
    "       'WoodDeckSF', 'OpenPorchSF', 'EnclosedPorch', '3SsnPorch', 'ScreenPorch', 'PoolArea',\n",
    "       'MiscVal', 'MoSold','SalePrice']]"
   ]
  },
  {
   "cell_type": "code",
   "execution_count": 16,
   "id": "574c9798-4b99-47fb-aa6c-f26a8071508f",
   "metadata": {},
   "outputs": [],
   "source": [
    "df = encoded_dataframe"
   ]
  },
  {
   "cell_type": "code",
   "execution_count": 18,
   "id": "24ce223c-21fa-49a5-84b3-74393a19b555",
   "metadata": {},
   "outputs": [],
   "source": [
    "# Impute missing values with column means for numerical columns\n",
    "df = df.fillna(df.mean())"
   ]
  },
  {
   "cell_type": "code",
   "execution_count": 181,
   "id": "19887b78-80eb-49c2-b159-5b012ba3b411",
   "metadata": {},
   "outputs": [],
   "source": [
    "## drop na's\n",
    "df = df.dropna()"
   ]
  },
  {
   "cell_type": "code",
   "execution_count": 19,
   "id": "7296ad40-f01a-4801-8423-1888285c22d5",
   "metadata": {},
   "outputs": [
    {
     "data": {
      "text/plain": [
       "0"
      ]
     },
     "execution_count": 19,
     "metadata": {},
     "output_type": "execute_result"
    }
   ],
   "source": [
    "# Check for any NaN or infinite values across rows\n",
    "df[df.isin([np.nan, np.inf, -np.inf]).any(axis=1)].count().sum()"
   ]
  },
  {
   "cell_type": "code",
   "execution_count": 21,
   "id": "23b01bb4-4d72-470a-bc9d-4e62adaa3784",
   "metadata": {},
   "outputs": [
    {
     "name": "stdout",
     "output_type": "stream",
     "text": [
      "<class 'pandas.core.frame.DataFrame'>\n",
      "RangeIndex: 1460 entries, 0 to 1459\n",
      "Columns: 290 entries, Id to SaleCondition_Partial\n",
      "dtypes: float64(3), int64(35), uint8(252)\n",
      "memory usage: 792.9 KB\n"
     ]
    }
   ],
   "source": [
    "df.info()"
   ]
  },
  {
   "cell_type": "code",
   "execution_count": 184,
   "id": "3ebca935-ef93-4369-8266-ab6450cb6622",
   "metadata": {},
   "outputs": [],
   "source": [
    "X = df[['LotArea','OverallQual', 'OverallCond','BsmtFinSF2', 'BsmtUnfSF', 'TotalBsmtSF','1stFlrSF', '2ndFlrSF',\n",
    "       'LowQualFinSF', 'GrLivArea', 'BsmtFullBath', 'BsmtHalfBath', 'FullBath',\n",
    "       'HalfBath', 'BedroomAbvGr', 'KitchenAbvGr','TotRmsAbvGrd','Fireplaces','GarageCars', 'GarageArea',\n",
    "       'WoodDeckSF', 'OpenPorchSF', 'EnclosedPorch', '3SsnPorch', 'ScreenPorch', 'PoolArea',\n",
    "       'MiscVal', 'MoSold']]"
   ]
  },
  {
   "cell_type": "code",
   "execution_count": 29,
   "id": "ad6bbc45-f8b8-4225-881d-e8a615dfe904",
   "metadata": {},
   "outputs": [],
   "source": [
    "X = df.loc[:, df.columns != 'SalePrice']\n",
    "X = df.loc[:, df.columns != 'Id']"
   ]
  },
  {
   "cell_type": "code",
   "execution_count": 30,
   "id": "75e574c1-f810-4b0e-9db4-2b6627daff37",
   "metadata": {},
   "outputs": [],
   "source": [
    "y = df['SalePrice']"
   ]
  },
  {
   "cell_type": "code",
   "execution_count": 31,
   "id": "f7f29fec-6013-475a-94bb-9a87623e7838",
   "metadata": {},
   "outputs": [
    {
     "data": {
      "text/html": [
       "<div>\n",
       "<style scoped>\n",
       "    .dataframe tbody tr th:only-of-type {\n",
       "        vertical-align: middle;\n",
       "    }\n",
       "\n",
       "    .dataframe tbody tr th {\n",
       "        vertical-align: top;\n",
       "    }\n",
       "\n",
       "    .dataframe thead th {\n",
       "        text-align: right;\n",
       "    }\n",
       "</style>\n",
       "<table border=\"1\" class=\"dataframe\">\n",
       "  <thead>\n",
       "    <tr style=\"text-align: right;\">\n",
       "      <th></th>\n",
       "      <th>MSSubClass</th>\n",
       "      <th>LotFrontage</th>\n",
       "      <th>LotArea</th>\n",
       "      <th>OverallQual</th>\n",
       "      <th>OverallCond</th>\n",
       "      <th>YearBuilt</th>\n",
       "      <th>YearRemodAdd</th>\n",
       "      <th>MasVnrArea</th>\n",
       "      <th>BsmtFinSF1</th>\n",
       "      <th>BsmtFinSF2</th>\n",
       "      <th>...</th>\n",
       "      <th>SaleType_ConLw</th>\n",
       "      <th>SaleType_New</th>\n",
       "      <th>SaleType_Oth</th>\n",
       "      <th>SaleType_WD</th>\n",
       "      <th>SaleCondition_Abnorml</th>\n",
       "      <th>SaleCondition_AdjLand</th>\n",
       "      <th>SaleCondition_Alloca</th>\n",
       "      <th>SaleCondition_Family</th>\n",
       "      <th>SaleCondition_Normal</th>\n",
       "      <th>SaleCondition_Partial</th>\n",
       "    </tr>\n",
       "  </thead>\n",
       "  <tbody>\n",
       "    <tr>\n",
       "      <th>0</th>\n",
       "      <td>60</td>\n",
       "      <td>65.0</td>\n",
       "      <td>8450</td>\n",
       "      <td>7</td>\n",
       "      <td>5</td>\n",
       "      <td>2003</td>\n",
       "      <td>2003</td>\n",
       "      <td>196.0</td>\n",
       "      <td>706</td>\n",
       "      <td>0</td>\n",
       "      <td>...</td>\n",
       "      <td>0</td>\n",
       "      <td>0</td>\n",
       "      <td>0</td>\n",
       "      <td>1</td>\n",
       "      <td>0</td>\n",
       "      <td>0</td>\n",
       "      <td>0</td>\n",
       "      <td>0</td>\n",
       "      <td>1</td>\n",
       "      <td>0</td>\n",
       "    </tr>\n",
       "    <tr>\n",
       "      <th>1</th>\n",
       "      <td>20</td>\n",
       "      <td>80.0</td>\n",
       "      <td>9600</td>\n",
       "      <td>6</td>\n",
       "      <td>8</td>\n",
       "      <td>1976</td>\n",
       "      <td>1976</td>\n",
       "      <td>0.0</td>\n",
       "      <td>978</td>\n",
       "      <td>0</td>\n",
       "      <td>...</td>\n",
       "      <td>0</td>\n",
       "      <td>0</td>\n",
       "      <td>0</td>\n",
       "      <td>1</td>\n",
       "      <td>0</td>\n",
       "      <td>0</td>\n",
       "      <td>0</td>\n",
       "      <td>0</td>\n",
       "      <td>1</td>\n",
       "      <td>0</td>\n",
       "    </tr>\n",
       "    <tr>\n",
       "      <th>2</th>\n",
       "      <td>60</td>\n",
       "      <td>68.0</td>\n",
       "      <td>11250</td>\n",
       "      <td>7</td>\n",
       "      <td>5</td>\n",
       "      <td>2001</td>\n",
       "      <td>2002</td>\n",
       "      <td>162.0</td>\n",
       "      <td>486</td>\n",
       "      <td>0</td>\n",
       "      <td>...</td>\n",
       "      <td>0</td>\n",
       "      <td>0</td>\n",
       "      <td>0</td>\n",
       "      <td>1</td>\n",
       "      <td>0</td>\n",
       "      <td>0</td>\n",
       "      <td>0</td>\n",
       "      <td>0</td>\n",
       "      <td>1</td>\n",
       "      <td>0</td>\n",
       "    </tr>\n",
       "    <tr>\n",
       "      <th>3</th>\n",
       "      <td>70</td>\n",
       "      <td>60.0</td>\n",
       "      <td>9550</td>\n",
       "      <td>7</td>\n",
       "      <td>5</td>\n",
       "      <td>1915</td>\n",
       "      <td>1970</td>\n",
       "      <td>0.0</td>\n",
       "      <td>216</td>\n",
       "      <td>0</td>\n",
       "      <td>...</td>\n",
       "      <td>0</td>\n",
       "      <td>0</td>\n",
       "      <td>0</td>\n",
       "      <td>1</td>\n",
       "      <td>1</td>\n",
       "      <td>0</td>\n",
       "      <td>0</td>\n",
       "      <td>0</td>\n",
       "      <td>0</td>\n",
       "      <td>0</td>\n",
       "    </tr>\n",
       "    <tr>\n",
       "      <th>4</th>\n",
       "      <td>60</td>\n",
       "      <td>84.0</td>\n",
       "      <td>14260</td>\n",
       "      <td>8</td>\n",
       "      <td>5</td>\n",
       "      <td>2000</td>\n",
       "      <td>2000</td>\n",
       "      <td>350.0</td>\n",
       "      <td>655</td>\n",
       "      <td>0</td>\n",
       "      <td>...</td>\n",
       "      <td>0</td>\n",
       "      <td>0</td>\n",
       "      <td>0</td>\n",
       "      <td>1</td>\n",
       "      <td>0</td>\n",
       "      <td>0</td>\n",
       "      <td>0</td>\n",
       "      <td>0</td>\n",
       "      <td>1</td>\n",
       "      <td>0</td>\n",
       "    </tr>\n",
       "  </tbody>\n",
       "</table>\n",
       "<p>5 rows × 289 columns</p>\n",
       "</div>"
      ],
      "text/plain": [
       "   MSSubClass  LotFrontage  LotArea  OverallQual  OverallCond  YearBuilt  \\\n",
       "0          60         65.0     8450            7            5       2003   \n",
       "1          20         80.0     9600            6            8       1976   \n",
       "2          60         68.0    11250            7            5       2001   \n",
       "3          70         60.0     9550            7            5       1915   \n",
       "4          60         84.0    14260            8            5       2000   \n",
       "\n",
       "   YearRemodAdd  MasVnrArea  BsmtFinSF1  BsmtFinSF2  ...  SaleType_ConLw  \\\n",
       "0          2003       196.0         706           0  ...               0   \n",
       "1          1976         0.0         978           0  ...               0   \n",
       "2          2002       162.0         486           0  ...               0   \n",
       "3          1970         0.0         216           0  ...               0   \n",
       "4          2000       350.0         655           0  ...               0   \n",
       "\n",
       "   SaleType_New  SaleType_Oth  SaleType_WD  SaleCondition_Abnorml  \\\n",
       "0             0             0            1                      0   \n",
       "1             0             0            1                      0   \n",
       "2             0             0            1                      0   \n",
       "3             0             0            1                      1   \n",
       "4             0             0            1                      0   \n",
       "\n",
       "   SaleCondition_AdjLand  SaleCondition_Alloca  SaleCondition_Family  \\\n",
       "0                      0                     0                     0   \n",
       "1                      0                     0                     0   \n",
       "2                      0                     0                     0   \n",
       "3                      0                     0                     0   \n",
       "4                      0                     0                     0   \n",
       "\n",
       "   SaleCondition_Normal  SaleCondition_Partial  \n",
       "0                     1                      0  \n",
       "1                     1                      0  \n",
       "2                     1                      0  \n",
       "3                     0                      0  \n",
       "4                     1                      0  \n",
       "\n",
       "[5 rows x 289 columns]"
      ]
     },
     "execution_count": 31,
     "metadata": {},
     "output_type": "execute_result"
    }
   ],
   "source": [
    "X.head()"
   ]
  },
  {
   "cell_type": "code",
   "execution_count": 32,
   "id": "276c7caf-70c6-4447-a393-717ab3326eb7",
   "metadata": {},
   "outputs": [],
   "source": [
    "X_train, X_test, y_train, y_test = train_test_split(X, y, test_size=0.1, random_state=1)"
   ]
  },
  {
   "cell_type": "markdown",
   "id": "c444e953-c48c-4f94-a408-636674f805c9",
   "metadata": {},
   "source": [
    "# Subsetting Data Into 3 Sections\n",
    "\n",
    "### For a two-step stacked time-series model where the temporal order of the data need to be followed strictly, we split the data into three time-ordered batches.\n",
    "\n",
    "### The first batch (called the base-training set) is for the Gridsearch hyper-parameter tuning of the base models.\n",
    "\n",
    "### The optimized base models then make out-of-sample predictions on the next batch of data, which is used to train the meta model (let's call this the meta-training set).\n",
    "\n",
    "### The fitted meta model then makes out-of-sample predictions on the final batch of data, which is used for scoring the models' performance (called the holdout test set)."
   ]
  },
  {
   "cell_type": "code",
   "execution_count": 187,
   "id": "98b053ca-fda2-4e98-92ff-3ebfe30f9651",
   "metadata": {},
   "outputs": [],
   "source": [
    "# Extract the last 10% of observations as the holdout-test set\n",
    "#df_holdout = df.iloc[-4380:]\n",
    "#df_rest = df.iloc[:-4380]"
   ]
  },
  {
   "cell_type": "code",
   "execution_count": 188,
   "id": "95088157-5c59-46db-acbe-2754d2e7ee70",
   "metadata": {},
   "outputs": [],
   "source": [
    "#y_test = y_test.pop('SalePrice')"
   ]
  },
  {
   "cell_type": "code",
   "execution_count": 189,
   "id": "30a4e80a-72f7-4cd9-9ca1-7f9359736657",
   "metadata": {},
   "outputs": [],
   "source": [
    "#y = df_rest.pop('Sale Price')"
   ]
  },
  {
   "cell_type": "code",
   "execution_count": 190,
   "id": "6964bc5e-2c42-412f-a73e-2cfdb968a953",
   "metadata": {},
   "outputs": [],
   "source": [
    "#X = df_rest"
   ]
  },
  {
   "cell_type": "markdown",
   "id": "62c58f9f-1d1e-44dd-a44d-30513cdafdcc",
   "metadata": {},
   "source": [
    "### The remaining training data is split into 2/3 base-training and 1/3 meta-training sets."
   ]
  },
  {
   "cell_type": "code",
   "execution_count": 33,
   "id": "3d3f8ead-4852-47ba-b25d-cd6601bdc28c",
   "metadata": {},
   "outputs": [],
   "source": [
    "c = len(y)/3"
   ]
  },
  {
   "cell_type": "code",
   "execution_count": 34,
   "id": "05301d4e-c2c9-42da-bb2b-44381286af7c",
   "metadata": {},
   "outputs": [],
   "source": [
    "# Data is organized in declining chronological order\n",
    "y_meta = y_train[-int(c):]\n",
    "y_base = y_train[:-int(c)]"
   ]
  },
  {
   "cell_type": "code",
   "execution_count": 35,
   "id": "4f6f34e4-8fd0-4f31-ba79-a7f431f8038e",
   "metadata": {},
   "outputs": [],
   "source": [
    "X_meta = X_train[-int(c):]\n",
    "X_base = X_train[:-int(c)]"
   ]
  },
  {
   "cell_type": "markdown",
   "id": "2871e425-e42f-4c5e-bedc-35032b3509c6",
   "metadata": {},
   "source": [
    "## Train Models"
   ]
  },
  {
   "cell_type": "code",
   "execution_count": 36,
   "id": "c0babeed-b93f-48d4-97c7-c2577ac48645",
   "metadata": {},
   "outputs": [],
   "source": [
    "scaler = StandardScaler()"
   ]
  },
  {
   "cell_type": "code",
   "execution_count": 37,
   "id": "1b35f2b1-a08b-452e-a0cc-80a2d441042d",
   "metadata": {},
   "outputs": [],
   "source": [
    "X_base = scaler.fit_transform(X_base)\n",
    "X_meta = scaler.transform(X_meta)\n",
    "X_test = scaler.transform(X_test)"
   ]
  },
  {
   "cell_type": "code",
   "execution_count": 38,
   "id": "93927243-e211-4e2f-b195-9e9527127c2f",
   "metadata": {},
   "outputs": [],
   "source": [
    "#Make an inner validation scheme for Gridsearch Cross-Validation\n",
    "# adopt appropriate CV split\n",
    "#time_split_inner = TimeSeriesSplit(n_splits = 3)\n",
    "\n",
    "cv = KFold(n_splits=2, random_state=None, shuffle=False)"
   ]
  },
  {
   "cell_type": "markdown",
   "id": "aa10b574-7185-4233-bcbf-1b6f7a00eca1",
   "metadata": {},
   "source": [
    "### Lasso Regression"
   ]
  },
  {
   "cell_type": "code",
   "execution_count": 39,
   "id": "3a260cc1-e286-4c79-880f-787aee39e75e",
   "metadata": {},
   "outputs": [],
   "source": [
    "lasso = Lasso(fit_intercept=1, alpha=0.05, max_iter=10000, random_state=0)\n",
    "\n",
    "las_params = {'fit_intercept': [1, 0],\n",
    "              'alpha': [0.005, 0.01, 0.03, 0.05, 0.07, 0.1]}"
   ]
  },
  {
   "cell_type": "code",
   "execution_count": 40,
   "id": "3787e441-8b52-4fe7-8158-6b8112d4bedd",
   "metadata": {},
   "outputs": [
    {
     "name": "stdout",
     "output_type": "stream",
     "text": [
      "Fitting 2 folds for each of 12 candidates, totalling 24 fits\n"
     ]
    },
    {
     "data": {
      "text/plain": [
       "GridSearchCV(cv=KFold(n_splits=2, random_state=None, shuffle=False),\n",
       "             estimator=Lasso(alpha=0.05, fit_intercept=1, max_iter=10000,\n",
       "                             random_state=0),\n",
       "             n_jobs=-1,\n",
       "             param_grid={'alpha': [0.005, 0.01, 0.03, 0.05, 0.07, 0.1],\n",
       "                         'fit_intercept': [1, 0]},\n",
       "             scoring='neg_mean_squared_error', verbose=1)"
      ]
     },
     "execution_count": 40,
     "metadata": {},
     "output_type": "execute_result"
    }
   ],
   "source": [
    "gs_las = GridSearchCV(lasso, las_params, cv=cv, scoring='neg_mean_squared_error', \n",
    "                      n_jobs=-1, verbose=1)\n",
    "\n",
    "gs_las.fit(X_base, y_base)"
   ]
  },
  {
   "cell_type": "markdown",
   "id": "0ac30d91-dd88-4e79-a37e-c7b584ea0460",
   "metadata": {},
   "source": [
    "### Two-Layer Neural Network"
   ]
  },
  {
   "cell_type": "code",
   "execution_count": 41,
   "id": "ee2ad3de-0861-4920-9ce3-0e5269702db5",
   "metadata": {},
   "outputs": [],
   "source": [
    "#mlp = MLPRegressor(hidden_layer_sizes=(24,), alpha=1e-6, activation='relu', early_stopping=True, max_iter=20000, random_state=0)\n",
    "\n",
    "#mlp_params = {'hidden_layer_sizes': [(24,), (36,), (24,24), (24,12), (36,24), (36,12)], \n",
    "#              'alpha': [1e-8, 1e-7, 1e-6, 1e-5, 1e-4, 1e-3],\n",
    "#              'activation': ['relu', 'identity', 'tanh']}"
   ]
  },
  {
   "cell_type": "code",
   "execution_count": 42,
   "id": "d8eb32e7-25ad-4ec9-ba2c-470d0f591f67",
   "metadata": {},
   "outputs": [],
   "source": [
    "#gs_mlp = GridSearchCV(mlp, mlp_params, cv=cv, scoring='neg_mean_squared_error', \n",
    "#                      n_jobs=-1, verbose=1)\n",
    "\n",
    "#gs_mlp.fit(X_base, y_base)"
   ]
  },
  {
   "cell_type": "markdown",
   "id": "30305149-228c-4d3e-b86a-e9608d0b84b5",
   "metadata": {},
   "source": [
    "### Random Forest"
   ]
  },
  {
   "cell_type": "code",
   "execution_count": 43,
   "id": "0f8efa66-33c9-4667-8bbb-4e5b18cfef84",
   "metadata": {},
   "outputs": [],
   "source": [
    "rf = RandomForestRegressor(n_estimators=400, min_samples_split=3, max_features='sqrt', random_state=0)\n",
    "\n",
    "rf_params = {'n_estimators': range(300, 500, 25),\n",
    "             'min_samples_split': [2, 3, 4, 5, 6, 7],\n",
    "             'max_features': ['log2', 'sqrt']}"
   ]
  },
  {
   "cell_type": "code",
   "execution_count": 44,
   "id": "6efaaffd-2f76-4028-b391-fea30af64d91",
   "metadata": {},
   "outputs": [
    {
     "name": "stdout",
     "output_type": "stream",
     "text": [
      "Fitting 2 folds for each of 96 candidates, totalling 192 fits\n"
     ]
    },
    {
     "data": {
      "text/plain": [
       "GridSearchCV(cv=KFold(n_splits=2, random_state=None, shuffle=False),\n",
       "             estimator=RandomForestRegressor(max_features='sqrt',\n",
       "                                             min_samples_split=3,\n",
       "                                             n_estimators=400, random_state=0),\n",
       "             n_jobs=-1,\n",
       "             param_grid={'max_features': ['log2', 'sqrt'],\n",
       "                         'min_samples_split': [2, 3, 4, 5, 6, 7],\n",
       "                         'n_estimators': range(300, 500, 25)},\n",
       "             scoring='neg_mean_squared_error', verbose=1)"
      ]
     },
     "execution_count": 44,
     "metadata": {},
     "output_type": "execute_result"
    }
   ],
   "source": [
    "gs_rf = GridSearchCV(rf, rf_params, cv=cv, scoring = 'neg_mean_squared_error', \n",
    "                     n_jobs=-1, verbose=1)\n",
    "\n",
    "gs_rf.fit(X_base, y_base)"
   ]
  },
  {
   "cell_type": "markdown",
   "id": "5bb03e93-cca1-44d3-baa8-3e803bd84292",
   "metadata": {},
   "source": [
    "### XGBoost"
   ]
  },
  {
   "cell_type": "code",
   "execution_count": 45,
   "id": "cf605c1b-a808-474a-8955-70afb79f88c6",
   "metadata": {},
   "outputs": [],
   "source": [
    "xgb = xgb.XGBRegressor(n_estimators=100, gamma=200, eta=0.1, subsample=1, objective='reg:squarederror', random_state=0)\n",
    "\n",
    "xgb_params = {'n_estimators': range(70, 140, 10),\n",
    "              'subsample': [0.5, 0.75, 1],\n",
    "              'eta': [0.01, 0.05, 0.1, 0.2, 0.3, 0.4],\n",
    "              'gamma': range(150, 160, 10)}\n",
    "\n",
    "# gamma range changed from 150-310 to 150-160"
   ]
  },
  {
   "cell_type": "code",
   "execution_count": 46,
   "id": "835d70ab-f203-4e4a-839c-8c84c9c94667",
   "metadata": {},
   "outputs": [
    {
     "name": "stdout",
     "output_type": "stream",
     "text": [
      "Fitting 2 folds for each of 126 candidates, totalling 252 fits\n"
     ]
    },
    {
     "data": {
      "text/plain": [
       "GridSearchCV(cv=KFold(n_splits=2, random_state=None, shuffle=False),\n",
       "             estimator=XGBRegressor(base_score=None, booster=None,\n",
       "                                    callbacks=None, colsample_bylevel=None,\n",
       "                                    colsample_bynode=None,\n",
       "                                    colsample_bytree=None,\n",
       "                                    early_stopping_rounds=None,\n",
       "                                    enable_categorical=False, eta=0.1,\n",
       "                                    eval_metric=None, gamma=200, gpu_id=None,\n",
       "                                    grow_policy=None, importance_type=None,\n",
       "                                    interaction_c...\n",
       "                                    max_depth=None, max_leaves=None,\n",
       "                                    min_child_weight=None, missing=nan,\n",
       "                                    monotone_constraints=None, n_estimators=100,\n",
       "                                    n_jobs=None, num_parallel_tree=None,\n",
       "                                    predictor=None, random_state=0,\n",
       "                                    reg_alpha=None, ...),\n",
       "             n_jobs=-1,\n",
       "             param_grid={'eta': [0.01, 0.05, 0.1, 0.2, 0.3, 0.4],\n",
       "                         'gamma': range(150, 160, 10),\n",
       "                         'n_estimators': range(70, 140, 10),\n",
       "                         'subsample': [0.5, 0.75, 1]},\n",
       "             scoring='neg_mean_squared_error', verbose=1)"
      ]
     },
     "execution_count": 46,
     "metadata": {},
     "output_type": "execute_result"
    }
   ],
   "source": [
    "gs_xgb = GridSearchCV(xgb, xgb_params, cv=cv, scoring = 'neg_mean_squared_error', n_jobs=-1, verbose=1)\n",
    "\n",
    "gs_xgb.fit(X_base, y_base)"
   ]
  },
  {
   "cell_type": "markdown",
   "id": "ccc57320-c30f-41bf-a9b1-03058da6faba",
   "metadata": {},
   "source": [
    "### Linear Support Vector Regression"
   ]
  },
  {
   "cell_type": "code",
   "execution_count": 47,
   "id": "0557864a-4e4c-4211-bfe3-4d9424d30852",
   "metadata": {},
   "outputs": [],
   "source": [
    "svr = LinearSVR(epsilon=10, C=35, fit_intercept=True, loss='squared_epsilon_insensitive', \n",
    "                max_iter=30000, random_state=8)\n",
    "\n",
    "svr_params = {'epsilon': [8, 9, 10, 11, 12, 13, 14],\n",
    "              'fit_intercept': [0, 1],\n",
    "              'C': [33, 34, 35, 36, 37, 38, 39, 40, 41]}"
   ]
  },
  {
   "cell_type": "code",
   "execution_count": 48,
   "id": "6081eae1-02d0-4d6b-a952-860a5cad0bd6",
   "metadata": {},
   "outputs": [
    {
     "name": "stdout",
     "output_type": "stream",
     "text": [
      "Fitting 2 folds for each of 126 candidates, totalling 252 fits\n"
     ]
    },
    {
     "data": {
      "text/plain": [
       "GridSearchCV(cv=KFold(n_splits=2, random_state=None, shuffle=False),\n",
       "             estimator=LinearSVR(C=35, epsilon=10,\n",
       "                                 loss='squared_epsilon_insensitive',\n",
       "                                 max_iter=30000, random_state=8),\n",
       "             n_jobs=-1,\n",
       "             param_grid={'C': [33, 34, 35, 36, 37, 38, 39, 40, 41],\n",
       "                         'epsilon': [8, 9, 10, 11, 12, 13, 14],\n",
       "                         'fit_intercept': [0, 1]},\n",
       "             scoring='neg_mean_squared_error', verbose=1)"
      ]
     },
     "execution_count": 48,
     "metadata": {},
     "output_type": "execute_result"
    }
   ],
   "source": [
    "gs_svr = GridSearchCV(svr, svr_params, cv=cv, scoring = 'neg_mean_squared_error', \n",
    "                      n_jobs=-1, verbose=1)\n",
    "\n",
    "gs_svr.fit(X_base, y_base)"
   ]
  },
  {
   "cell_type": "markdown",
   "id": "499b6b90-1e1f-4a8c-8249-1ddf39d87477",
   "metadata": {},
   "source": [
    "### Support Vector Machine (Regression)"
   ]
  },
  {
   "cell_type": "code",
   "execution_count": 207,
   "id": "a402b7b3-0c39-4763-b9d7-e172aebe407f",
   "metadata": {},
   "outputs": [],
   "source": [
    "#svm = SVR(kernel='rbf', gamma='auto', C=0.1, max_iter=30000)\n",
    "\n",
    "#svm_params = {'kernel': ['rbf', 'sigmoid', 'poly'],\n",
    "#              'gamma': ['scale', 'auto', 0.2], \n",
    "#              'C': [0.05, 0.07, 0.1, 0.2, 0.3, 0.4, 0.5]}"
   ]
  },
  {
   "cell_type": "code",
   "execution_count": 208,
   "id": "0daefe7d-ffd5-4d79-b842-063d7d301c41",
   "metadata": {},
   "outputs": [
    {
     "name": "stdout",
     "output_type": "stream",
     "text": [
      "Fitting 2 folds for each of 63 candidates, totalling 126 fits\n"
     ]
    },
    {
     "data": {
      "text/plain": [
       "GridSearchCV(cv=KFold(n_splits=2, random_state=None, shuffle=False),\n",
       "             estimator=SVR(C=0.1, gamma='auto', max_iter=30000), n_jobs=-1,\n",
       "             param_grid={'C': [0.05, 0.07, 0.1, 0.2, 0.3, 0.4, 0.5],\n",
       "                         'gamma': ['scale', 'auto', 0.2],\n",
       "                         'kernel': ['rbf', 'sigmoid', 'poly']},\n",
       "             scoring='neg_mean_squared_error', verbose=1)"
      ]
     },
     "execution_count": 208,
     "metadata": {},
     "output_type": "execute_result"
    }
   ],
   "source": [
    "#gs_svm = GridSearchCV(svm, svm_params, cv=cv, scoring = 'neg_mean_squared_error', \n",
    "#                      n_jobs=-1, verbose=1)\n",
    "\n",
    "#gs_svm.fit(X_base, y_base)"
   ]
  },
  {
   "cell_type": "markdown",
   "id": "b0d70acf-27a0-447d-b302-c73a3d0bd3aa",
   "metadata": {},
   "source": [
    "## Test Models"
   ]
  },
  {
   "cell_type": "code",
   "execution_count": 49,
   "id": "6106106f-7950-439f-b091-2d99186bf3f1",
   "metadata": {},
   "outputs": [
    {
     "data": {
      "text/plain": [
       "{'C': 34, 'epsilon': 11, 'fit_intercept': 1}"
      ]
     },
     "execution_count": 49,
     "metadata": {},
     "output_type": "execute_result"
    }
   ],
   "source": [
    "gs_las.best_params_\n",
    "#gs_mlp.best_params_\n",
    "gs_rf.best_params_\n",
    "gs_xgb.best_params_\n",
    "gs_svr.best_params_\n",
    "#gs_svm.best_params_"
   ]
  },
  {
   "cell_type": "code",
   "execution_count": 50,
   "id": "a86d94e9-4a6c-4609-892b-65e4cc2da9b7",
   "metadata": {},
   "outputs": [],
   "source": [
    "est_meta = pd.DataFrame(y_meta)\n",
    "#y_meta = est_meta.pop('target')"
   ]
  },
  {
   "cell_type": "code",
   "execution_count": 51,
   "id": "78110153-be99-40d3-85fa-7c6c7320c065",
   "metadata": {},
   "outputs": [],
   "source": [
    "est_meta['las_pred'] = gs_las.predict(X_meta)\n",
    "#est_meta['mlp_pred'] = gs_mlp.predict(X_meta)\n",
    "est_meta['rf_pred'] = gs_rf.predict(X_meta)\n",
    "est_meta['xgb_pred'] = gs_xgb.predict(X_meta)\n",
    "est_meta['svr_pred'] = gs_svr.predict(X_meta)\n",
    "#est_meta['svm_pred'] = gs_svm.predict(X_meta)"
   ]
  },
  {
   "cell_type": "code",
   "execution_count": 52,
   "id": "223cb74a-263d-49eb-bccc-4f3b600a1799",
   "metadata": {},
   "outputs": [],
   "source": [
    "#est_meta = est_meta[['las_pred','mlp_pred','rf_pred','xgb_pred','svr_pred','svm_pred']]\n",
    "est_meta = est_meta[['las_pred','rf_pred','xgb_pred','svr_pred']]"
   ]
  },
  {
   "cell_type": "code",
   "execution_count": 53,
   "id": "2132e80d-c889-44f6-9488-00558f48399a",
   "metadata": {},
   "outputs": [
    {
     "data": {
      "image/png": "[encoded data removed]",
      "text/plain": [
       "<Figure size 1152x504 with 1 Axes>"
      ]
     },
     "metadata": {
      "needs_background": "light"
     },
     "output_type": "display_data"
    }
   ],
   "source": [
    "plt.figure(figsize=(16,7))\n",
    "\n",
    "ax=sns.boxplot(data=est_meta, orient='v', palette = sns.color_palette(\"deep\", 5))\n",
    "ax.set(ylim=(0, 500000))\n",
    "\n",
    "plt.title('Boxplots of Model Predictions on Meta Set', fontsize=16)\n",
    "plt.xlabel('Model')\n",
    "plt.ylabel('Sale Price');"
   ]
  },
  {
   "cell_type": "code",
   "execution_count": 214,
   "id": "55747a65-4657-496c-a522-197c7217e4dc",
   "metadata": {},
   "outputs": [],
   "source": [
    "#meta = LinearRegression()"
   ]
  },
  {
   "cell_type": "code",
   "execution_count": 55,
   "id": "22448327-baaf-4485-8c10-222fe1a68652",
   "metadata": {},
   "outputs": [],
   "source": [
    "# ridge parameter grid\n",
    "param_grid = {\n",
    "    'alpha': [0.1, 1.0, 10.0],        \n",
    "    'fit_intercept': [True, False],  \n",
    "    'normalize': [True, False],      \n",
    "    'solver': ['auto', 'svd', 'cholesky', 'lsqr', 'sparse_cg', 'sag', 'saga'],  \n",
    "    'random_state': [42]            \n",
    "}"
   ]
  },
  {
   "cell_type": "code",
   "execution_count": 56,
   "id": "45be3808-95fc-40ce-826f-5f75a2f3027e",
   "metadata": {},
   "outputs": [],
   "source": [
    "# Create Ridge Regression model\n",
    "meta_mod = Ridge()\n",
    "\n",
    "# Create the GridSearchCV object\n",
    "meta = GridSearchCV(meta_mod, param_grid, cv=5, scoring='neg_mean_squared_error')"
   ]
  },
  {
   "cell_type": "code",
   "execution_count": 57,
   "id": "f511df9d-9c6b-4c46-96eb-6a1b4eeef96c",
   "metadata": {},
   "outputs": [
    {
     "data": {
      "text/plain": [
       "GridSearchCV(cv=5, estimator=Ridge(),\n",
       "             param_grid={'alpha': [0.1, 1.0, 10.0],\n",
       "                         'fit_intercept': [True, False],\n",
       "                         'normalize': [True, False], 'random_state': [42],\n",
       "                         'solver': ['auto', 'svd', 'cholesky', 'lsqr',\n",
       "                                    'sparse_cg', 'sag', 'saga']},\n",
       "             scoring='neg_mean_squared_error')"
      ]
     },
     "execution_count": 57,
     "metadata": {},
     "output_type": "execute_result"
    }
   ],
   "source": [
    "meta.fit(est_meta, y_meta)"
   ]
  },
  {
   "cell_type": "code",
   "execution_count": 58,
   "id": "acd8a429-9529-4e0a-8f0f-177dd9e631dc",
   "metadata": {},
   "outputs": [],
   "source": [
    "reg_dict = {\n",
    "    'Lasso Regression': gs_las,\n",
    "    #'Multi-Layer Perceptron': gs_mlp, \n",
    "    'Random Forest': gs_rf,\n",
    "    'XG Boost': gs_xgb,\n",
    "    'Support Vector Regression' : gs_svr\n",
    "    #, 'Support Vector Machine' : gs_svm\n",
    "}"
   ]
  },
  {
   "cell_type": "code",
   "execution_count": 59,
   "id": "3667629e-7960-4426-a05f-5c721196c933",
   "metadata": {},
   "outputs": [],
   "source": [
    "def reg_scoring(X, y, meta, reg_dict):\n",
    "   \n",
    "    test1_scores = []\n",
    "    test2_scores = []\n",
    "    test3_scores = []\n",
    "    \n",
    "    df_pred = pd.DataFrame(columns=reg_dict.keys()) # Columns of DF will accord with reg_dict keys\n",
    "    \n",
    "    # Loop through Dictionary items\n",
    "    for key, reg in reg_dict.items():\n",
    "        \n",
    "        pred_y = reg.predict(X)\n",
    "        df_pred[key] = pd.Series(pred_y).transpose()\n",
    "        \n",
    "        # Computing test scores for each model\n",
    "        test1_scores.append(round(mean_absolute_error(y, pred_y), 4))\n",
    "        test2_scores.append(round(mean_squared_error(y, pred_y, squared=False), 4))\n",
    "        test3_scores.append(round(r2_score(y, pred_y), 4))\n",
    "                            \n",
    "    # Generate results DataFrame\n",
    "    results = pd.DataFrame({'Model': list(reg_dict.keys()), \n",
    "                            'Mean Absolute Error': test1_scores,\n",
    "                            'Root Mean Squared Error': test2_scores,\n",
    "                            'R-Squared': test3_scores\n",
    "                            })\n",
    "\n",
    "    # Generate Stack Model's predictions, and test scores\n",
    "    df_pred['Stack Model'] = meta.predict(df_pred) # Adding 'Stack Model' to DataFrame of predictions\n",
    "    \n",
    "    s1 = round(mean_absolute_error(y, df_pred['Stack Model']), 4)\n",
    "    s2 = round(mean_squared_error(y, df_pred['Stack Model'], squared=False), 4)\n",
    "    s3 = round(r2_score(y, df_pred['Stack Model']), 4)\n",
    "    \n",
    "    # Add target variable to the DataFrame of predictions\n",
    "    df_pred['Target'] = y.tolist()\n",
    "        \n",
    "        \n",
    "    # Inserting the Stack scores to the results DataFrame\n",
    "    row1 = ['Stack Model', s1, s2, s3]\n",
    "    results.loc[len(results)] = row1\n",
    "    \n",
    "    return results, df_pred"
   ]
  },
  {
   "cell_type": "code",
   "execution_count": 60,
   "id": "9c09cb8b-33ec-4f85-8fda-3005c522ea50",
   "metadata": {},
   "outputs": [],
   "source": [
    "scores, df_pred = reg_scoring(X_test, y_test, meta, reg_dict)"
   ]
  },
  {
   "cell_type": "code",
   "execution_count": 61,
   "id": "23a9afa5-97c1-4b53-a0d2-e662921bc420",
   "metadata": {},
   "outputs": [
    {
     "data": {
      "text/html": [
       "<div>\n",
       "<style scoped>\n",
       "    .dataframe tbody tr th:only-of-type {\n",
       "        vertical-align: middle;\n",
       "    }\n",
       "\n",
       "    .dataframe tbody tr th {\n",
       "        vertical-align: top;\n",
       "    }\n",
       "\n",
       "    .dataframe thead th {\n",
       "        text-align: right;\n",
       "    }\n",
       "</style>\n",
       "<table border=\"1\" class=\"dataframe\">\n",
       "  <thead>\n",
       "    <tr style=\"text-align: right;\">\n",
       "      <th></th>\n",
       "      <th>Model</th>\n",
       "      <th>Mean Absolute Error</th>\n",
       "      <th>Root Mean Squared Error</th>\n",
       "      <th>R-Squared</th>\n",
       "    </tr>\n",
       "  </thead>\n",
       "  <tbody>\n",
       "    <tr>\n",
       "      <th>0</th>\n",
       "      <td>Lasso Regression</td>\n",
       "      <td>136.6843</td>\n",
       "      <td>542.2587</td>\n",
       "      <td>1.0000</td>\n",
       "    </tr>\n",
       "    <tr>\n",
       "      <th>1</th>\n",
       "      <td>Random Forest</td>\n",
       "      <td>13629.6244</td>\n",
       "      <td>26881.9014</td>\n",
       "      <td>0.9040</td>\n",
       "    </tr>\n",
       "    <tr>\n",
       "      <th>2</th>\n",
       "      <td>XG Boost</td>\n",
       "      <td>1938.6909</td>\n",
       "      <td>6546.1140</td>\n",
       "      <td>0.9943</td>\n",
       "    </tr>\n",
       "    <tr>\n",
       "      <th>3</th>\n",
       "      <td>Support Vector Regression</td>\n",
       "      <td>18.5360</td>\n",
       "      <td>25.4540</td>\n",
       "      <td>1.0000</td>\n",
       "    </tr>\n",
       "    <tr>\n",
       "      <th>4</th>\n",
       "      <td>Stack Model</td>\n",
       "      <td>13.9500</td>\n",
       "      <td>23.9479</td>\n",
       "      <td>1.0000</td>\n",
       "    </tr>\n",
       "  </tbody>\n",
       "</table>\n",
       "</div>"
      ],
      "text/plain": [
       "                       Model  Mean Absolute Error  Root Mean Squared Error  \\\n",
       "0           Lasso Regression             136.6843                 542.2587   \n",
       "1              Random Forest           13629.6244               26881.9014   \n",
       "2                   XG Boost            1938.6909                6546.1140   \n",
       "3  Support Vector Regression              18.5360                  25.4540   \n",
       "4                Stack Model              13.9500                  23.9479   \n",
       "\n",
       "   R-Squared  \n",
       "0     1.0000  \n",
       "1     0.9040  \n",
       "2     0.9943  \n",
       "3     1.0000  \n",
       "4     1.0000  "
      ]
     },
     "execution_count": 61,
     "metadata": {},
     "output_type": "execute_result"
    }
   ],
   "source": [
    "scores"
   ]
  },
  {
   "cell_type": "code",
   "execution_count": 73,
   "id": "588ccef7-6f32-4ce3-afcf-aa72f0fdfcc4",
   "metadata": {},
   "outputs": [
    {
     "data": {
      "image/png": "[encoded data removed]",
      "text/plain": [
       "<Figure size 1152x504 with 1 Axes>"
      ]
     },
     "metadata": {
      "needs_background": "light"
     },
     "output_type": "display_data"
    }
   ],
   "source": [
    "fig, ax = plt.subplots(figsize=(16,7))\n",
    "\n",
    "sns.lineplot(data=df_pred[['Target', 'Stack Model']], ax=ax, linewidth=3)\n",
    "plt.legend(loc='upper center', fontsize=12)\n",
    "plt.title('Plot of Model on Test Data', fontsize=16)\n",
    "plt.xlabel('')\n",
    "plt.ylabel('Sale Price', fontsize=12);"
   ]
  },
  {
   "cell_type": "code",
   "execution_count": 66,
   "id": "e8758ae0-471b-4bc0-aae7-594b0ca3a332",
   "metadata": {},
   "outputs": [
    {
     "data": {
      "image/png": "[encoded data removed]",
      "text/plain": [
       "<Figure size 1152x504 with 1 Axes>"
      ]
     },
     "metadata": {
      "needs_background": "light"
     },
     "output_type": "display_data"
    }
   ],
   "source": [
    "fig, ax = plt.subplots(figsize=(16,7))\n",
    "\n",
    "sns.lineplot(data=df_pred[['Target', 'Stack Model','Lasso Regression', 'XG Boost','Support Vector Regression']], ax=ax, linewidth=3)\n",
    "plt.legend(loc='upper center', fontsize=12)\n",
    "plt.title('Plot of Model on Test Data', fontsize=16)\n",
    "plt.xlabel('')\n",
    "plt.ylabel('Sale Price', fontsize=12);"
   ]
  },
  {
   "cell_type": "code",
   "execution_count": 67,
   "id": "f247714f-578a-403a-96a3-904113a02484",
   "metadata": {},
   "outputs": [
    {
     "data": {
      "image/png": "[encoded data removed]",
      "text/plain": [
       "<Figure size 1152x504 with 1 Axes>"
      ]
     },
     "metadata": {
      "needs_background": "light"
     },
     "output_type": "display_data"
    }
   ],
   "source": [
    "plt.figure(figsize=(16,7))\n",
    "\n",
    "ax=sns.boxplot(data=df_pred, orient='v', palette = sns.color_palette(\"deep\", 5))\n",
    "ax.set(ylim=(0, 500000))\n",
    "\n",
    "plt.title('Boxplots of Model Predictions on test Set with Target', fontsize=16)\n",
    "plt.xlabel('Model')\n",
    "plt.ylabel('Sale Price');"
   ]
  },
  {
   "cell_type": "markdown",
   "id": "6c321c83-a3d0-4b8b-9b70-75d8afa3de58",
   "metadata": {},
   "source": [
    "## Predictions"
   ]
  },
  {
   "cell_type": "code",
   "execution_count": 229,
   "id": "395ae2df-ac31-4022-890b-8e0a95387405",
   "metadata": {},
   "outputs": [],
   "source": [
    "### Input new data's figures into dataframe\n",
    "new_test_df = pd.read_csv('test.csv')"
   ]
  },
  {
   "cell_type": "code",
   "execution_count": 230,
   "id": "270bb780-539c-451e-8fe8-a02b84b88dd4",
   "metadata": {},
   "outputs": [],
   "source": [
    "new_test_x = new_test_df[['LotArea','OverallQual', 'OverallCond','BsmtFinSF2', 'BsmtUnfSF', 'TotalBsmtSF','1stFlrSF', '2ndFlrSF',\n",
    "       'LowQualFinSF', 'GrLivArea', 'BsmtFullBath', 'BsmtHalfBath', 'FullBath',\n",
    "       'HalfBath', 'BedroomAbvGr', 'KitchenAbvGr','TotRmsAbvGrd','Fireplaces','GarageCars', 'GarageArea',\n",
    "       'WoodDeckSF', 'OpenPorchSF', 'EnclosedPorch', '3SsnPorch', 'ScreenPorch', 'PoolArea',\n",
    "       'MiscVal', 'MoSold']]"
   ]
  },
  {
   "cell_type": "code",
   "execution_count": null,
   "id": "d330f9f4-72b5-4c76-bb9a-08a18ff5e27f",
   "metadata": {},
   "outputs": [],
   "source": []
  },
  {
   "cell_type": "code",
   "execution_count": 231,
   "id": "b10e3d30-d686-4fa8-8a1f-c50fb68f8f0e",
   "metadata": {},
   "outputs": [],
   "source": [
    "### Re-run this cell to make prediction\n"
   ]
  },
  {
   "cell_type": "code",
   "execution_count": 232,
   "id": "44071c21-02d5-4605-837b-40202279d284",
   "metadata": {},
   "outputs": [],
   "source": [
    "### run scores\n"
   ]
  }
 ],
 "metadata": {
  "kernelspec": {
   "display_name": "Python 3",
   "language": "python",
   "name": "python3"
  },
  "language_info": {
   "codemirror_mode": {
    "name": "ipython",
    "version": 3
   },
   "file_extension": ".py",
   "mimetype": "text/x-python",
   "name": "python",
   "nbconvert_exporter": "python",
   "pygments_lexer": "ipython3",
   "version": "3.8.8"
  }
 },
 "nbformat": 4,
 "nbformat_minor": 5
}
